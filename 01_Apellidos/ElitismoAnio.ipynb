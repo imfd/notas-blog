{
 "cells": [
  {
   "cell_type": "code",
   "execution_count": 1,
   "metadata": {},
   "outputs": [],
   "source": [
    "import altair as alt\n",
    "import pandas as pd"
   ]
  },
  {
   "cell_type": "code",
   "execution_count": 3,
   "metadata": {},
   "outputs": [],
   "source": [
    "df = pd.read_csv('data/prop_elite.csv')\n",
    "df['Start'] = df['Start'].apply(lambda x: pd.to_datetime(x, format=\"%Y\"))\n",
    "df.columns = ['year', 'elitismo']"
   ]
  },
  {
   "cell_type": "code",
   "execution_count": 4,
   "metadata": {},
   "outputs": [],
   "source": [
    "base = alt.Chart(df[df['year'] < pd.to_datetime(\"2021\", format=\"%Y\")]).mark_line(color=\"#1B9E77\").encode(\n",
    "    x=alt.X('year',title='Año'),\n",
    "    y=alt.Y('elitismo', title='Elitismo apellido'),\n",
    ")\n",
    "\n",
    "const_1925 = alt.Chart(pd.DataFrame({'year': ['1925-01-01'], 'key': ['Constitución 1925']})).mark_rule(opacity=1).encode(\n",
    "    x=alt.X('year:T', title=None),\n",
    "    color=alt.ColorValue('#D95F02')\n",
    "    \n",
    ")\n",
    "const_1925_text = const_1925.mark_text(\n",
    "    align='left',\n",
    "    baseline='bottom',\n",
    "    dx=5,\n",
    "    dy = -140\n",
    ").encode(\n",
    "    text=alt.TextValue('Convención 1925'),\n",
    ")\n",
    "\n",
    "average =  alt.Chart(pd.DataFrame({'elitismo': df['elitismo'].mean() ,\n",
    "                                  'key':['Elitismo promedio'] })).mark_rule(size=1, strokeDash=(5, 5)).encode(\n",
    "    y=alt.Y('elitismo:Q'),\n",
    "    color=alt.ColorValue('#666666')\n",
    ")\n",
    "\n",
    "average_text =  average.mark_text(\n",
    "    align='left',\n",
    "    baseline='middle',\n",
    "    dx=200\n",
    ").encode(\n",
    "    text=alt.TextValue('Elitismo promedio'),\n",
    ")\n",
    "\n",
    "\n",
    "convencion = alt.Chart(df[df['year'] == pd.to_datetime(\"2021\", format=\"%Y\")]).mark_point(filled=True, size=80, opacity=1).encode(\n",
    "    x=alt.X('year',title='Año'),\n",
    "    y=alt.Y('elitismo', title='Elitismo apellido'),\n",
    "    color=alt.ColorValue('#E7298A'),\n",
    ")\n",
    "\n",
    "convencion_text = convencion.mark_text(\n",
    "    align='left',\n",
    "    baseline='middle',\n",
    "    dx=7\n",
    ").encode(\n",
    "    text=alt.TextValue('Candidatos convención')\n",
    ")\n",
    "\n"
   ]
  },
  {
   "cell_type": "code",
   "execution_count": 7,
   "metadata": {},
   "outputs": [
    {
     "data": {
      "text/html": [
       "\n",
       "<div id=\"altair-viz-483e9a80a1874558916d8d3603839ffe\"></div>\n",
       "<script type=\"text/javascript\">\n",
       "  (function(spec, embedOpt){\n",
       "    let outputDiv = document.currentScript.previousElementSibling;\n",
       "    if (outputDiv.id !== \"altair-viz-483e9a80a1874558916d8d3603839ffe\") {\n",
       "      outputDiv = document.getElementById(\"altair-viz-483e9a80a1874558916d8d3603839ffe\");\n",
       "    }\n",
       "    const paths = {\n",
       "      \"vega\": \"https://cdn.jsdelivr.net/npm//vega@5?noext\",\n",
       "      \"vega-lib\": \"https://cdn.jsdelivr.net/npm//vega-lib?noext\",\n",
       "      \"vega-lite\": \"https://cdn.jsdelivr.net/npm//vega-lite@4.8.1?noext\",\n",
       "      \"vega-embed\": \"https://cdn.jsdelivr.net/npm//vega-embed@6?noext\",\n",
       "    };\n",
       "\n",
       "    function loadScript(lib) {\n",
       "      return new Promise(function(resolve, reject) {\n",
       "        var s = document.createElement('script');\n",
       "        s.src = paths[lib];\n",
       "        s.async = true;\n",
       "        s.onload = () => resolve(paths[lib]);\n",
       "        s.onerror = () => reject(`Error loading script: ${paths[lib]}`);\n",
       "        document.getElementsByTagName(\"head\")[0].appendChild(s);\n",
       "      });\n",
       "    }\n",
       "\n",
       "    function showError(err) {\n",
       "      outputDiv.innerHTML = `<div class=\"error\" style=\"color:red;\">${err}</div>`;\n",
       "      throw err;\n",
       "    }\n",
       "\n",
       "    function displayChart(vegaEmbed) {\n",
       "      vegaEmbed(outputDiv, spec, embedOpt)\n",
       "        .catch(err => showError(`Javascript Error: ${err.message}<br>This usually means there's a typo in your chart specification. See the javascript console for the full traceback.`));\n",
       "    }\n",
       "\n",
       "    if(typeof define === \"function\" && define.amd) {\n",
       "      requirejs.config({paths});\n",
       "      require([\"vega-embed\"], displayChart, err => showError(`Error loading script: ${err.message}`));\n",
       "    } else if (typeof vegaEmbed === \"function\") {\n",
       "      displayChart(vegaEmbed);\n",
       "    } else {\n",
       "      loadScript(\"vega\")\n",
       "        .then(() => loadScript(\"vega-lite\"))\n",
       "        .then(() => loadScript(\"vega-embed\"))\n",
       "        .catch(showError)\n",
       "        .then(() => displayChart(vegaEmbed));\n",
       "    }\n",
       "  })({\"config\": {\"view\": {\"continuousWidth\": 400, \"continuousHeight\": 300, \"strokeOpacity\": 0}, \"axis\": {\"grid\": false}}, \"layer\": [{\"data\": {\"name\": \"data-c5a826c66aad047e6be87911e4928b8e\"}, \"mark\": {\"type\": \"line\", \"color\": \"#1B9E77\"}, \"encoding\": {\"x\": {\"type\": \"temporal\", \"field\": \"year\", \"title\": \"A\\u00f1o\"}, \"y\": {\"type\": \"quantitative\", \"field\": \"elitismo\", \"title\": \"Elitismo apellido\"}}}, {\"data\": {\"name\": \"data-e6cdc68101f5fcebc3136fd5aa136cf4\"}, \"mark\": {\"type\": \"point\", \"filled\": true, \"opacity\": 1, \"size\": 80}, \"encoding\": {\"color\": {\"value\": \"#E7298A\"}, \"x\": {\"type\": \"temporal\", \"field\": \"year\", \"title\": \"A\\u00f1o\"}, \"y\": {\"type\": \"quantitative\", \"field\": \"elitismo\", \"title\": \"Elitismo apellido\"}}}, {\"data\": {\"name\": \"data-e6cdc68101f5fcebc3136fd5aa136cf4\"}, \"mark\": {\"type\": \"text\", \"align\": \"left\", \"baseline\": \"middle\", \"dx\": 7}, \"encoding\": {\"color\": {\"value\": \"#E7298A\"}, \"text\": {\"value\": \"Candidatos convenci\\u00f3n\"}, \"x\": {\"type\": \"temporal\", \"field\": \"year\", \"title\": \"A\\u00f1o\"}, \"y\": {\"type\": \"quantitative\", \"field\": \"elitismo\", \"title\": \"Elitismo apellido\"}}}, {\"data\": {\"name\": \"data-c371a214289bbffc56eb21f6be5b1b4a\"}, \"mark\": {\"type\": \"rule\", \"opacity\": 1}, \"encoding\": {\"color\": {\"value\": \"#D95F02\"}, \"x\": {\"type\": \"temporal\", \"field\": \"year\", \"title\": null}}}, {\"data\": {\"name\": \"data-c371a214289bbffc56eb21f6be5b1b4a\"}, \"mark\": {\"type\": \"text\", \"align\": \"left\", \"baseline\": \"bottom\", \"dx\": 5, \"dy\": -140}, \"encoding\": {\"color\": {\"value\": \"#D95F02\"}, \"text\": {\"value\": \"Convenci\\u00f3n 1925\"}, \"x\": {\"type\": \"temporal\", \"field\": \"year\", \"title\": null}}}, {\"data\": {\"name\": \"data-f7acac6e709666dd652aed36e4b6d15e\"}, \"mark\": {\"type\": \"rule\", \"size\": 1, \"strokeDash\": [5, 5]}, \"encoding\": {\"color\": {\"value\": \"#666666\"}, \"y\": {\"type\": \"quantitative\", \"field\": \"elitismo\"}}}, {\"data\": {\"name\": \"data-f7acac6e709666dd652aed36e4b6d15e\"}, \"mark\": {\"type\": \"text\", \"align\": \"left\", \"baseline\": \"middle\", \"dx\": 200}, \"encoding\": {\"color\": {\"value\": \"#666666\"}, \"text\": {\"value\": \"Elitismo promedio\"}, \"y\": {\"type\": \"quantitative\", \"field\": \"elitismo\"}}}], \"$schema\": \"https://vega.github.io/schema/vega-lite/v4.8.1.json\", \"datasets\": {\"data-c5a826c66aad047e6be87911e4928b8e\": [{\"year\": \"1834-01-01T00:00:00\", \"elitismo\": 19.1489361702128}, {\"year\": \"1837-01-01T00:00:00\", \"elitismo\": 14.772727272727302}, {\"year\": \"1840-01-01T00:00:00\", \"elitismo\": 16.363636363636402}, {\"year\": \"1843-01-01T00:00:00\", \"elitismo\": 16.190476190476197}, {\"year\": \"1846-01-01T00:00:00\", \"elitismo\": 21.6216216216216}, {\"year\": \"1849-01-01T00:00:00\", \"elitismo\": 19.047619047618998}, {\"year\": \"1852-01-01T00:00:00\", \"elitismo\": 16.8067226890756}, {\"year\": \"1855-01-01T00:00:00\", \"elitismo\": 20.3947368421053}, {\"year\": \"1858-01-01T00:00:00\", \"elitismo\": 18.0451127819549}, {\"year\": \"1861-01-01T00:00:00\", \"elitismo\": 19.7368421052632}, {\"year\": \"1864-01-01T00:00:00\", \"elitismo\": 18.0}, {\"year\": \"1867-01-01T00:00:00\", \"elitismo\": 17.6470588235294}, {\"year\": \"1870-01-01T00:00:00\", \"elitismo\": 18.9473684210526}, {\"year\": \"1873-01-01T00:00:00\", \"elitismo\": 20.0}, {\"year\": \"1876-01-01T00:00:00\", \"elitismo\": 16.5898617511521}, {\"year\": \"1879-01-01T00:00:00\", \"elitismo\": 20.642201834862398}, {\"year\": \"1882-01-01T00:00:00\", \"elitismo\": 14.7465437788018}, {\"year\": \"1885-01-01T00:00:00\", \"elitismo\": 14.6551724137931}, {\"year\": \"1888-01-01T00:00:00\", \"elitismo\": 14.453125}, {\"year\": \"1891-01-01T00:00:00\", \"elitismo\": 14.693877551020401}, {\"year\": \"1894-01-01T00:00:00\", \"elitismo\": 22.4806201550388}, {\"year\": \"1897-01-01T00:00:00\", \"elitismo\": 16.2962962962963}, {\"year\": \"1900-01-01T00:00:00\", \"elitismo\": 18.978102189781}, {\"year\": \"1903-01-01T00:00:00\", \"elitismo\": 20.0}, {\"year\": \"1906-01-01T00:00:00\", \"elitismo\": 26.3157894736842}, {\"year\": \"1909-01-01T00:00:00\", \"elitismo\": 22.695035460992898}, {\"year\": \"1912-01-01T00:00:00\", \"elitismo\": 19.6319018404908}, {\"year\": \"1915-01-01T00:00:00\", \"elitismo\": 19.2546583850932}, {\"year\": \"1918-01-01T00:00:00\", \"elitismo\": 16.3522012578616}, {\"year\": \"1921-01-01T00:00:00\", \"elitismo\": 13.9240506329114}, {\"year\": \"1924-01-01T00:00:00\", \"elitismo\": 16.5605095541401}, {\"year\": \"1926-01-01T00:00:00\", \"elitismo\": 12.0218579234973}, {\"year\": \"1930-01-01T00:00:00\", \"elitismo\": 8.60215053763441}, {\"year\": \"1932-01-01T00:00:00\", \"elitismo\": 6.930693069306929}, {\"year\": \"1937-01-01T00:00:00\", \"elitismo\": 10.8695652173913}, {\"year\": \"1941-01-01T00:00:00\", \"elitismo\": 6.96517412935323}, {\"year\": \"1945-01-01T00:00:00\", \"elitismo\": 11.4427860696517}, {\"year\": \"1949-01-01T00:00:00\", \"elitismo\": 10.3448275862069}, {\"year\": \"1953-01-01T00:00:00\", \"elitismo\": 11.1111111111111}, {\"year\": \"1957-01-01T00:00:00\", \"elitismo\": 10.880829015544}, {\"year\": \"1961-01-01T00:00:00\", \"elitismo\": 9.32642487046632}, {\"year\": \"1965-01-01T00:00:00\", \"elitismo\": 5.181347150259071}, {\"year\": \"1969-01-01T00:00:00\", \"elitismo\": 5.9405940594059405}, {\"year\": \"1973-01-01T00:00:00\", \"elitismo\": 5.52763819095477}, {\"year\": \"1990-01-01T00:00:00\", \"elitismo\": 9.03614457831325}, {\"year\": \"1994-01-01T00:00:00\", \"elitismo\": 13.333333333333302}, {\"year\": \"1998-01-01T00:00:00\", \"elitismo\": 9.14634146341463}, {\"year\": \"2002-01-01T00:00:00\", \"elitismo\": 6.790123456790121}, {\"year\": \"2006-01-01T00:00:00\", \"elitismo\": 8.38709677419355}, {\"year\": \"2010-01-01T00:00:00\", \"elitismo\": 10.967741935483902}, {\"year\": \"2014-01-01T00:00:00\", \"elitismo\": 9.33333333333333}, {\"year\": \"2018-01-01T00:00:00\", \"elitismo\": 6.45161290322581}], \"data-e6cdc68101f5fcebc3136fd5aa136cf4\": [{\"year\": \"2021-01-01T00:00:00\", \"elitismo\": 2.9622962999999998}], \"data-c371a214289bbffc56eb21f6be5b1b4a\": [{\"year\": \"1925-01-01\", \"key\": \"Constituci\\u00f3n 1925\"}], \"data-f7acac6e709666dd652aed36e4b6d15e\": [{\"elitismo\": 14.274449602152178, \"key\": \"Elitismo promedio\"}]}}, {\"mode\": \"vega-lite\"});\n",
       "</script>"
      ],
      "text/plain": [
       "alt.LayerChart(...)"
      ]
     },
     "execution_count": 7,
     "metadata": {},
     "output_type": "execute_result"
    }
   ],
   "source": [
    "chart = (base + convencion + convencion_text + const_1925  + const_1925_text + average + average_text).configure_axis(\n",
    "    grid=False\n",
    ").configure_view(\n",
    "    strokeOpacity=0)\n",
    "chart"
   ]
  },
  {
   "cell_type": "code",
   "execution_count": 11,
   "metadata": {},
   "outputs": [],
   "source": [
    "chart.save('elitismo_historico.svg')"
   ]
  }
 ],
 "metadata": {
  "kernelspec": {
   "display_name": "Python 3",
   "language": "python",
   "name": "python3"
  },
  "language_info": {
   "codemirror_mode": {
    "name": "ipython",
    "version": 3
   },
   "file_extension": ".py",
   "mimetype": "text/x-python",
   "name": "python",
   "nbconvert_exporter": "python",
   "pygments_lexer": "ipython3",
   "version": "3.6.9"
  }
 },
 "nbformat": 4,
 "nbformat_minor": 4
}