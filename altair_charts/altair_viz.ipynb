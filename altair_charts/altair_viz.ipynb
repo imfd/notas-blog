{
 "cells": [
  {
   "cell_type": "markdown",
   "id": "cc8eefa0",
   "metadata": {},
   "source": [
    "# Visualizaciones con Altair"
   ]
  },
  {
   "cell_type": "code",
   "execution_count": 1,
   "id": "2b51a3ff",
   "metadata": {},
   "outputs": [],
   "source": [
    "import pandas as pd\n",
    "import altair as alt"
   ]
  },
  {
   "cell_type": "markdown",
   "id": "69705130",
   "metadata": {},
   "source": [
    "# Bar Chart"
   ]
  },
  {
   "cell_type": "code",
   "execution_count": 2,
   "id": "890cdabd",
   "metadata": {},
   "outputs": [],
   "source": [
    "def bar_chart(source, title, width, height, domain, range_, group_color, x_, y_, title_x, title_y):    \n",
    "    scale = alt.Scale(domain=domain, range=range_)\n",
    "    color = alt.Color(group_color, scale=scale)\n",
    "    \n",
    "    chart = alt.Chart(source, title=title).mark_bar().encode(\n",
    "        x = alt.X(x_, title=title_x, sort=alt.EncodingSortField(field=x_, op=\"count\", order='ascending')),\n",
    "        y = alt.Y(y_, title=title_y, sort=alt.EncodingSortField(field=y_, op=\"count\", order='ascending')),\n",
    "        color = color\n",
    "    ).properties(width=width, height=height)\n",
    "    \n",
    "    return chart"
   ]
  },
  {
   "cell_type": "code",
   "execution_count": 3,
   "id": "ae705c05",
   "metadata": {},
   "outputs": [
    {
     "data": {
      "text/html": [
       "<div>\n",
       "<style scoped>\n",
       "    .dataframe tbody tr th:only-of-type {\n",
       "        vertical-align: middle;\n",
       "    }\n",
       "\n",
       "    .dataframe tbody tr th {\n",
       "        vertical-align: top;\n",
       "    }\n",
       "\n",
       "    .dataframe thead th {\n",
       "        text-align: right;\n",
       "    }\n",
       "</style>\n",
       "<table border=\"1\" class=\"dataframe\">\n",
       "  <thead>\n",
       "    <tr style=\"text-align: right;\">\n",
       "      <th></th>\n",
       "      <th>cluster</th>\n",
       "      <th>resultado</th>\n",
       "      <th>controversia</th>\n",
       "    </tr>\n",
       "  </thead>\n",
       "  <tbody>\n",
       "    <tr>\n",
       "      <th>0</th>\n",
       "      <td>3</td>\n",
       "      <td>1.00000</td>\n",
       "      <td>-0.00000</td>\n",
       "    </tr>\n",
       "    <tr>\n",
       "      <th>2</th>\n",
       "      <td>6</td>\n",
       "      <td>0.87013</td>\n",
       "      <td>0.12987</td>\n",
       "    </tr>\n",
       "    <tr>\n",
       "      <th>3</th>\n",
       "      <td>7</td>\n",
       "      <td>0.68690</td>\n",
       "      <td>0.31310</td>\n",
       "    </tr>\n",
       "    <tr>\n",
       "      <th>6</th>\n",
       "      <td>10</td>\n",
       "      <td>0.39740</td>\n",
       "      <td>0.60260</td>\n",
       "    </tr>\n",
       "    <tr>\n",
       "      <th>1</th>\n",
       "      <td>5</td>\n",
       "      <td>0.20600</td>\n",
       "      <td>0.79400</td>\n",
       "    </tr>\n",
       "  </tbody>\n",
       "</table>\n",
       "</div>"
      ],
      "text/plain": [
       "   cluster  resultado  controversia\n",
       "0        3    1.00000      -0.00000\n",
       "2        6    0.87013       0.12987\n",
       "3        7    0.68690       0.31310\n",
       "6       10    0.39740       0.60260\n",
       "1        5    0.20600       0.79400"
      ]
     },
     "execution_count": 3,
     "metadata": {},
     "output_type": "execute_result"
    }
   ],
   "source": [
    "controversia = pd.read_csv(\"ejemplo_controversia.csv\")\n",
    "controversia = controversia.sort_values(by=\"resultado\", ascending=False)\n",
    "controversia.head()"
   ]
  },
  {
   "cell_type": "code",
   "execution_count": 4,
   "id": "5d59edc3",
   "metadata": {},
   "outputs": [
    {
     "data": {
      "text/html": [
       "\n",
       "<div id=\"altair-viz-9487d0fa7e7d460aa7382f870a125609\"></div>\n",
       "<script type=\"text/javascript\">\n",
       "  (function(spec, embedOpt){\n",
       "    let outputDiv = document.currentScript.previousElementSibling;\n",
       "    if (outputDiv.id !== \"altair-viz-9487d0fa7e7d460aa7382f870a125609\") {\n",
       "      outputDiv = document.getElementById(\"altair-viz-9487d0fa7e7d460aa7382f870a125609\");\n",
       "    }\n",
       "    const paths = {\n",
       "      \"vega\": \"https://cdn.jsdelivr.net/npm//vega@5?noext\",\n",
       "      \"vega-lib\": \"https://cdn.jsdelivr.net/npm//vega-lib?noext\",\n",
       "      \"vega-lite\": \"https://cdn.jsdelivr.net/npm//vega-lite@4.8.1?noext\",\n",
       "      \"vega-embed\": \"https://cdn.jsdelivr.net/npm//vega-embed@6?noext\",\n",
       "    };\n",
       "\n",
       "    function loadScript(lib) {\n",
       "      return new Promise(function(resolve, reject) {\n",
       "        var s = document.createElement('script');\n",
       "        s.src = paths[lib];\n",
       "        s.async = true;\n",
       "        s.onload = () => resolve(paths[lib]);\n",
       "        s.onerror = () => reject(`Error loading script: ${paths[lib]}`);\n",
       "        document.getElementsByTagName(\"head\")[0].appendChild(s);\n",
       "      });\n",
       "    }\n",
       "\n",
       "    function showError(err) {\n",
       "      outputDiv.innerHTML = `<div class=\"error\" style=\"color:red;\">${err}</div>`;\n",
       "      throw err;\n",
       "    }\n",
       "\n",
       "    function displayChart(vegaEmbed) {\n",
       "      vegaEmbed(outputDiv, spec, embedOpt)\n",
       "        .catch(err => showError(`Javascript Error: ${err.message}<br>This usually means there's a typo in your chart specification. See the javascript console for the full traceback.`));\n",
       "    }\n",
       "\n",
       "    if(typeof define === \"function\" && define.amd) {\n",
       "      requirejs.config({paths});\n",
       "      require([\"vega-embed\"], displayChart, err => showError(`Error loading script: ${err.message}`));\n",
       "    } else if (typeof vegaEmbed === \"function\") {\n",
       "      displayChart(vegaEmbed);\n",
       "    } else {\n",
       "      loadScript(\"vega\")\n",
       "        .then(() => loadScript(\"vega-lite\"))\n",
       "        .then(() => loadScript(\"vega-embed\"))\n",
       "        .catch(showError)\n",
       "        .then(() => displayChart(vegaEmbed));\n",
       "    }\n",
       "  })({\"config\": {\"view\": {\"continuousWidth\": 400, \"continuousHeight\": 300}}, \"data\": {\"name\": \"data-2328488580dad833e3af08a94e7197ad\"}, \"mark\": \"bar\", \"encoding\": {\"color\": {\"type\": \"nominal\", \"field\": \"cluster\", \"scale\": {\"domain\": [3, 5, 6, 7, 8, 9, 10, 11], \"range\": [\"#B1F67F\", \"#309DCC\", \"#FF7870\", \"#FFC400\", \"#D07200\", \"#6ECEFF\", \"#FF9144\", \"#E41791\"]}}, \"x\": {\"type\": \"nominal\", \"field\": \"cluster\", \"sort\": {\"field\": \"cluster:N\", \"op\": \"count\", \"order\": \"ascending\"}, \"title\": \"Cluster\"}, \"y\": {\"type\": \"quantitative\", \"field\": \"resultado\", \"sort\": {\"field\": \"resultado:Q\", \"op\": \"count\", \"order\": \"ascending\"}, \"title\": \"Nivel de Controversia\"}}, \"height\": 350, \"title\": \"Nivel de Controversia, Clusters - Vertical\", \"width\": 300, \"$schema\": \"https://vega.github.io/schema/vega-lite/v4.8.1.json\", \"datasets\": {\"data-2328488580dad833e3af08a94e7197ad\": [{\"cluster\": 3, \"resultado\": 1.0, \"controversia\": -0.0}, {\"cluster\": 6, \"resultado\": 0.87013, \"controversia\": 0.12987000000000004}, {\"cluster\": 7, \"resultado\": 0.6869, \"controversia\": 0.31310000000000004}, {\"cluster\": 10, \"resultado\": 0.3974, \"controversia\": 0.6026}, {\"cluster\": 5, \"resultado\": 0.206, \"controversia\": 0.794}, {\"cluster\": 9, \"resultado\": 0.05611, \"controversia\": 0.94389}, {\"cluster\": 11, \"resultado\": 0.05164, \"controversia\": 0.94836}, {\"cluster\": 8, \"resultado\": 0.048582, \"controversia\": 0.951418}]}}, {\"mode\": \"vega-lite\"});\n",
       "</script>"
      ],
      "text/plain": [
       "alt.Chart(...)"
      ]
     },
     "execution_count": 4,
     "metadata": {},
     "output_type": "execute_result"
    }
   ],
   "source": [
    "domain = [3,5,6,7,8,9,10,11]\n",
    "range_ = [\"#B1F67F\", \"#309DCC\", \"#FF7870\", \"#FFC400\", \"#D07200\", \"#6ECEFF\", \"#FF9144\", \"#E41791\"]\n",
    "chart = bar_chart(controversia, \"Nivel de Controversia, Clusters - Vertical\", 300, 350, domain, range_,\n",
    "                  \"cluster:N\", \"cluster:N\", \"resultado:Q\", \"Cluster\", \"Nivel de Controversia\")\n",
    "chart"
   ]
  },
  {
   "cell_type": "code",
   "execution_count": 5,
   "id": "a0bf454a",
   "metadata": {},
   "outputs": [
    {
     "data": {
      "text/html": [
       "\n",
       "<div id=\"altair-viz-9c3e0fa1807f4f9386d44b7c1b12e880\"></div>\n",
       "<script type=\"text/javascript\">\n",
       "  (function(spec, embedOpt){\n",
       "    let outputDiv = document.currentScript.previousElementSibling;\n",
       "    if (outputDiv.id !== \"altair-viz-9c3e0fa1807f4f9386d44b7c1b12e880\") {\n",
       "      outputDiv = document.getElementById(\"altair-viz-9c3e0fa1807f4f9386d44b7c1b12e880\");\n",
       "    }\n",
       "    const paths = {\n",
       "      \"vega\": \"https://cdn.jsdelivr.net/npm//vega@5?noext\",\n",
       "      \"vega-lib\": \"https://cdn.jsdelivr.net/npm//vega-lib?noext\",\n",
       "      \"vega-lite\": \"https://cdn.jsdelivr.net/npm//vega-lite@4.8.1?noext\",\n",
       "      \"vega-embed\": \"https://cdn.jsdelivr.net/npm//vega-embed@6?noext\",\n",
       "    };\n",
       "\n",
       "    function loadScript(lib) {\n",
       "      return new Promise(function(resolve, reject) {\n",
       "        var s = document.createElement('script');\n",
       "        s.src = paths[lib];\n",
       "        s.async = true;\n",
       "        s.onload = () => resolve(paths[lib]);\n",
       "        s.onerror = () => reject(`Error loading script: ${paths[lib]}`);\n",
       "        document.getElementsByTagName(\"head\")[0].appendChild(s);\n",
       "      });\n",
       "    }\n",
       "\n",
       "    function showError(err) {\n",
       "      outputDiv.innerHTML = `<div class=\"error\" style=\"color:red;\">${err}</div>`;\n",
       "      throw err;\n",
       "    }\n",
       "\n",
       "    function displayChart(vegaEmbed) {\n",
       "      vegaEmbed(outputDiv, spec, embedOpt)\n",
       "        .catch(err => showError(`Javascript Error: ${err.message}<br>This usually means there's a typo in your chart specification. See the javascript console for the full traceback.`));\n",
       "    }\n",
       "\n",
       "    if(typeof define === \"function\" && define.amd) {\n",
       "      requirejs.config({paths});\n",
       "      require([\"vega-embed\"], displayChart, err => showError(`Error loading script: ${err.message}`));\n",
       "    } else if (typeof vegaEmbed === \"function\") {\n",
       "      displayChart(vegaEmbed);\n",
       "    } else {\n",
       "      loadScript(\"vega\")\n",
       "        .then(() => loadScript(\"vega-lite\"))\n",
       "        .then(() => loadScript(\"vega-embed\"))\n",
       "        .catch(showError)\n",
       "        .then(() => displayChart(vegaEmbed));\n",
       "    }\n",
       "  })({\"config\": {\"view\": {\"continuousWidth\": 400, \"continuousHeight\": 300}}, \"data\": {\"name\": \"data-2328488580dad833e3af08a94e7197ad\"}, \"mark\": \"bar\", \"encoding\": {\"color\": {\"type\": \"nominal\", \"field\": \"cluster\", \"scale\": {\"domain\": [3, 5, 6, 7, 8, 9, 10, 11], \"range\": [\"#B1F67F\", \"#309DCC\", \"#FF7870\", \"#FFC400\", \"#D07200\", \"#6ECEFF\", \"#FF9144\", \"#E41791\"]}}, \"x\": {\"type\": \"quantitative\", \"field\": \"resultado\", \"sort\": {\"field\": \"resultado:Q\", \"op\": \"count\", \"order\": \"ascending\"}, \"title\": \"Cluster\"}, \"y\": {\"type\": \"nominal\", \"field\": \"cluster\", \"sort\": {\"field\": \"cluster:N\", \"op\": \"count\", \"order\": \"ascending\"}, \"title\": \"Nivel de Controversia\"}}, \"height\": 350, \"title\": \"Nivel de Controversia, Clusters - Horizontal\", \"width\": 300, \"$schema\": \"https://vega.github.io/schema/vega-lite/v4.8.1.json\", \"datasets\": {\"data-2328488580dad833e3af08a94e7197ad\": [{\"cluster\": 3, \"resultado\": 1.0, \"controversia\": -0.0}, {\"cluster\": 6, \"resultado\": 0.87013, \"controversia\": 0.12987000000000004}, {\"cluster\": 7, \"resultado\": 0.6869, \"controversia\": 0.31310000000000004}, {\"cluster\": 10, \"resultado\": 0.3974, \"controversia\": 0.6026}, {\"cluster\": 5, \"resultado\": 0.206, \"controversia\": 0.794}, {\"cluster\": 9, \"resultado\": 0.05611, \"controversia\": 0.94389}, {\"cluster\": 11, \"resultado\": 0.05164, \"controversia\": 0.94836}, {\"cluster\": 8, \"resultado\": 0.048582, \"controversia\": 0.951418}]}}, {\"mode\": \"vega-lite\"});\n",
       "</script>"
      ],
      "text/plain": [
       "alt.Chart(...)"
      ]
     },
     "execution_count": 5,
     "metadata": {},
     "output_type": "execute_result"
    }
   ],
   "source": [
    "domain = [3,5,6,7,8,9,10,11]\n",
    "range_ = [\"#B1F67F\", \"#309DCC\", \"#FF7870\", \"#FFC400\", \"#D07200\", \"#6ECEFF\", \"#FF9144\", \"#E41791\"]\n",
    "chart = bar_chart(controversia, \"Nivel de Controversia, Clusters - Horizontal\", 300, 350, domain, range_,\n",
    "                  \"cluster:N\",\"resultado:Q\", \"cluster:N\", \"Cluster\", \"Nivel de Controversia\")\n",
    "chart"
   ]
  },
  {
   "cell_type": "code",
   "execution_count": 6,
   "id": "e9a6bf05",
   "metadata": {},
   "outputs": [],
   "source": [
    "def bar_chartv2(source, title, width, height, domain, range_, group_color, x_, y_, title_x, title_y, label_x):\n",
    "    scale=alt.Scale(domain=domain, range=range_)\n",
    "    color = alt.Color('emocion:N', scale=scale, legend=alt.Legend(title=\"Emociones\"))\n",
    "\n",
    "    chart = alt.Chart(source, title=title).mark_bar(\n",
    "        cornerRadiusTopLeft=3,\n",
    "        cornerRadiusTopRight=3,\n",
    "        size=40\n",
    "    ).encode(\n",
    "        x= alt.X(x_, title=title_x, scale=alt.Scale(domain=(label_x[0], label_x[1])),\n",
    "                sort=alt.EncodingSortField(field=x_, op=\"count\", order='ascending')),\n",
    "        y= alt.Y(y_, title=title_y,\n",
    "                sort=alt.EncodingSortField(field=y_, op=\"count\", order='ascending')),\n",
    "        color = color\n",
    "    ).properties(width=width, height=height)\n",
    "    \n",
    "    return chart"
   ]
  },
  {
   "cell_type": "code",
   "execution_count": 7,
   "id": "975c6868",
   "metadata": {},
   "outputs": [
    {
     "data": {
      "text/html": [
       "<div>\n",
       "<style scoped>\n",
       "    .dataframe tbody tr th:only-of-type {\n",
       "        vertical-align: middle;\n",
       "    }\n",
       "\n",
       "    .dataframe tbody tr th {\n",
       "        vertical-align: top;\n",
       "    }\n",
       "\n",
       "    .dataframe thead th {\n",
       "        text-align: right;\n",
       "    }\n",
       "</style>\n",
       "<table border=\"1\" class=\"dataframe\">\n",
       "  <thead>\n",
       "    <tr style=\"text-align: right;\">\n",
       "      <th></th>\n",
       "      <th>emocion</th>\n",
       "      <th>intensidad</th>\n",
       "    </tr>\n",
       "  </thead>\n",
       "  <tbody>\n",
       "    <tr>\n",
       "      <th>0</th>\n",
       "      <td>Confianza</td>\n",
       "      <td>81.240</td>\n",
       "    </tr>\n",
       "    <tr>\n",
       "      <th>1</th>\n",
       "      <td>Tristeza</td>\n",
       "      <td>43.344</td>\n",
       "    </tr>\n",
       "    <tr>\n",
       "      <th>2</th>\n",
       "      <td>Miedo</td>\n",
       "      <td>39.276</td>\n",
       "    </tr>\n",
       "    <tr>\n",
       "      <th>3</th>\n",
       "      <td>Alegría</td>\n",
       "      <td>37.306</td>\n",
       "    </tr>\n",
       "    <tr>\n",
       "      <th>4</th>\n",
       "      <td>Expectación</td>\n",
       "      <td>29.370</td>\n",
       "    </tr>\n",
       "  </tbody>\n",
       "</table>\n",
       "</div>"
      ],
      "text/plain": [
       "       emocion  intensidad\n",
       "0    Confianza      81.240\n",
       "1     Tristeza      43.344\n",
       "2        Miedo      39.276\n",
       "3      Alegría      37.306\n",
       "4  Expectación      29.370"
      ]
     },
     "execution_count": 7,
     "metadata": {},
     "output_type": "execute_result"
    }
   ],
   "source": [
    "emociones = pd.read_csv(\"ejemplo_emociones.csv\")\n",
    "emociones.head()"
   ]
  },
  {
   "cell_type": "code",
   "execution_count": 8,
   "id": "6e666d06",
   "metadata": {},
   "outputs": [
    {
     "data": {
      "text/html": [
       "\n",
       "<div id=\"altair-viz-cdb5b800ba5149faac612779bded97e3\"></div>\n",
       "<script type=\"text/javascript\">\n",
       "  (function(spec, embedOpt){\n",
       "    let outputDiv = document.currentScript.previousElementSibling;\n",
       "    if (outputDiv.id !== \"altair-viz-cdb5b800ba5149faac612779bded97e3\") {\n",
       "      outputDiv = document.getElementById(\"altair-viz-cdb5b800ba5149faac612779bded97e3\");\n",
       "    }\n",
       "    const paths = {\n",
       "      \"vega\": \"https://cdn.jsdelivr.net/npm//vega@5?noext\",\n",
       "      \"vega-lib\": \"https://cdn.jsdelivr.net/npm//vega-lib?noext\",\n",
       "      \"vega-lite\": \"https://cdn.jsdelivr.net/npm//vega-lite@4.8.1?noext\",\n",
       "      \"vega-embed\": \"https://cdn.jsdelivr.net/npm//vega-embed@6?noext\",\n",
       "    };\n",
       "\n",
       "    function loadScript(lib) {\n",
       "      return new Promise(function(resolve, reject) {\n",
       "        var s = document.createElement('script');\n",
       "        s.src = paths[lib];\n",
       "        s.async = true;\n",
       "        s.onload = () => resolve(paths[lib]);\n",
       "        s.onerror = () => reject(`Error loading script: ${paths[lib]}`);\n",
       "        document.getElementsByTagName(\"head\")[0].appendChild(s);\n",
       "      });\n",
       "    }\n",
       "\n",
       "    function showError(err) {\n",
       "      outputDiv.innerHTML = `<div class=\"error\" style=\"color:red;\">${err}</div>`;\n",
       "      throw err;\n",
       "    }\n",
       "\n",
       "    function displayChart(vegaEmbed) {\n",
       "      vegaEmbed(outputDiv, spec, embedOpt)\n",
       "        .catch(err => showError(`Javascript Error: ${err.message}<br>This usually means there's a typo in your chart specification. See the javascript console for the full traceback.`));\n",
       "    }\n",
       "\n",
       "    if(typeof define === \"function\" && define.amd) {\n",
       "      requirejs.config({paths});\n",
       "      require([\"vega-embed\"], displayChart, err => showError(`Error loading script: ${err.message}`));\n",
       "    } else if (typeof vegaEmbed === \"function\") {\n",
       "      displayChart(vegaEmbed);\n",
       "    } else {\n",
       "      loadScript(\"vega\")\n",
       "        .then(() => loadScript(\"vega-lite\"))\n",
       "        .then(() => loadScript(\"vega-embed\"))\n",
       "        .catch(showError)\n",
       "        .then(() => displayChart(vegaEmbed));\n",
       "    }\n",
       "  })({\"config\": {\"view\": {\"continuousWidth\": 400, \"continuousHeight\": 300}}, \"data\": {\"name\": \"data-2196835c6bd6e0c6096c2f8082ae5542\"}, \"mark\": {\"type\": \"bar\", \"cornerRadiusTopLeft\": 3, \"cornerRadiusTopRight\": 3, \"size\": 40}, \"encoding\": {\"color\": {\"type\": \"nominal\", \"field\": \"emocion\", \"legend\": {\"title\": \"Emociones\"}, \"scale\": {\"domain\": [\"Alegr\\u00eda\", \"Confianza\", \"Disgusto\", \"Enojo\", \"Expectaci\\u00f3n\", \"Miedo\", \"Sorpresa\", \"Tristeza\"], \"range\": [\"#5d4fb4\", \"#e5794a\", \"#8cd335\", \"#f4e33d\", \"#4dacc8\", \"#fa5444\", \"#E41791\", \"#f87ef2\"]}}, \"x\": {\"type\": \"quantitative\", \"field\": \"intensidad\", \"scale\": {\"domain\": [0, 120]}, \"sort\": {\"field\": \"intensidad\", \"op\": \"count\", \"order\": \"ascending\"}, \"title\": \"Intensidad\"}, \"y\": {\"type\": \"nominal\", \"field\": \"emocion\", \"sort\": {\"field\": \"emocion\", \"op\": \"count\", \"order\": \"ascending\"}, \"title\": \"Emociones\"}}, \"height\": 350, \"title\": \"Intensidad de Emociones, Ejemplo largo de ejes\", \"width\": 550, \"$schema\": \"https://vega.github.io/schema/vega-lite/v4.8.1.json\", \"datasets\": {\"data-2196835c6bd6e0c6096c2f8082ae5542\": [{\"emocion\": \"Confianza\", \"intensidad\": 81.24000000000002}, {\"emocion\": \"Tristeza\", \"intensidad\": 43.34399999999997}, {\"emocion\": \"Miedo\", \"intensidad\": 39.275999999999996}, {\"emocion\": \"Alegr\\u00eda\", \"intensidad\": 37.306}, {\"emocion\": \"Expectaci\\u00f3n\", \"intensidad\": 29.369999999999994}, {\"emocion\": \"Disgusto\", \"intensidad\": 25.655999999999995}, {\"emocion\": \"Enojo\", \"intensidad\": 25.330000000000005}, {\"emocion\": \"Sorpresa\", \"intensidad\": 11.845}]}}, {\"mode\": \"vega-lite\"});\n",
       "</script>"
      ],
      "text/plain": [
       "alt.Chart(...)"
      ]
     },
     "execution_count": 8,
     "metadata": {},
     "output_type": "execute_result"
    }
   ],
   "source": [
    "domain = ['Alegría', 'Confianza', 'Disgusto', 'Enojo', 'Expectación', 'Miedo', 'Sorpresa', 'Tristeza']\n",
    "range_ = ['#5d4fb4', '#e5794a','#8cd335','#f4e33d', '#4dacc8', '#fa5444','#E41791', '#f87ef2']\n",
    "chart_01 = bar_chartv2(emociones, \"Intensidad de Emociones, Ejemplo largo de ejes\", 550, 350, domain, range_, \"emocion:N\",\n",
    "                    \"intensidad\", \"emocion\", \"Intensidad\", \"Emociones\", [0,120])\n",
    "chart_01"
   ]
  },
  {
   "cell_type": "code",
   "execution_count": 9,
   "id": "136af626",
   "metadata": {},
   "outputs": [
    {
     "data": {
      "text/html": [
       "\n",
       "<div id=\"altair-viz-22fa4aa4ec7a4f16a7afd28ac4ba4d2f\"></div>\n",
       "<script type=\"text/javascript\">\n",
       "  (function(spec, embedOpt){\n",
       "    let outputDiv = document.currentScript.previousElementSibling;\n",
       "    if (outputDiv.id !== \"altair-viz-22fa4aa4ec7a4f16a7afd28ac4ba4d2f\") {\n",
       "      outputDiv = document.getElementById(\"altair-viz-22fa4aa4ec7a4f16a7afd28ac4ba4d2f\");\n",
       "    }\n",
       "    const paths = {\n",
       "      \"vega\": \"https://cdn.jsdelivr.net/npm//vega@5?noext\",\n",
       "      \"vega-lib\": \"https://cdn.jsdelivr.net/npm//vega-lib?noext\",\n",
       "      \"vega-lite\": \"https://cdn.jsdelivr.net/npm//vega-lite@4.8.1?noext\",\n",
       "      \"vega-embed\": \"https://cdn.jsdelivr.net/npm//vega-embed@6?noext\",\n",
       "    };\n",
       "\n",
       "    function loadScript(lib) {\n",
       "      return new Promise(function(resolve, reject) {\n",
       "        var s = document.createElement('script');\n",
       "        s.src = paths[lib];\n",
       "        s.async = true;\n",
       "        s.onload = () => resolve(paths[lib]);\n",
       "        s.onerror = () => reject(`Error loading script: ${paths[lib]}`);\n",
       "        document.getElementsByTagName(\"head\")[0].appendChild(s);\n",
       "      });\n",
       "    }\n",
       "\n",
       "    function showError(err) {\n",
       "      outputDiv.innerHTML = `<div class=\"error\" style=\"color:red;\">${err}</div>`;\n",
       "      throw err;\n",
       "    }\n",
       "\n",
       "    function displayChart(vegaEmbed) {\n",
       "      vegaEmbed(outputDiv, spec, embedOpt)\n",
       "        .catch(err => showError(`Javascript Error: ${err.message}<br>This usually means there's a typo in your chart specification. See the javascript console for the full traceback.`));\n",
       "    }\n",
       "\n",
       "    if(typeof define === \"function\" && define.amd) {\n",
       "      requirejs.config({paths});\n",
       "      require([\"vega-embed\"], displayChart, err => showError(`Error loading script: ${err.message}`));\n",
       "    } else if (typeof vegaEmbed === \"function\") {\n",
       "      displayChart(vegaEmbed);\n",
       "    } else {\n",
       "      loadScript(\"vega\")\n",
       "        .then(() => loadScript(\"vega-lite\"))\n",
       "        .then(() => loadScript(\"vega-embed\"))\n",
       "        .catch(showError)\n",
       "        .then(() => displayChart(vegaEmbed));\n",
       "    }\n",
       "  })({\"config\": {\"view\": {\"continuousWidth\": 400, \"continuousHeight\": 300}}, \"data\": {\"name\": \"data-2196835c6bd6e0c6096c2f8082ae5542\"}, \"mark\": {\"type\": \"bar\", \"cornerRadiusTopLeft\": 3, \"cornerRadiusTopRight\": 3, \"size\": 40}, \"encoding\": {\"color\": {\"type\": \"nominal\", \"field\": \"emocion\", \"legend\": {\"title\": \"Emociones\"}, \"scale\": {\"domain\": [\"Alegr\\u00eda\", \"Confianza\", \"Disgusto\", \"Enojo\", \"Expectaci\\u00f3n\", \"Miedo\", \"Sorpresa\", \"Tristeza\"], \"range\": [\"#5d4fb4\", \"#e5794a\", \"#8cd335\", \"#f4e33d\", \"#4dacc8\", \"#fa5444\", \"#E41791\", \"#f87ef2\"]}}, \"x\": {\"type\": \"quantitative\", \"field\": \"intensidad\", \"scale\": {\"domain\": [0, 90]}, \"sort\": {\"field\": \"intensidad\", \"op\": \"count\", \"order\": \"ascending\"}, \"title\": \"Intensidad\"}, \"y\": {\"type\": \"nominal\", \"field\": \"emocion\", \"sort\": {\"field\": \"emocion\", \"op\": \"count\", \"order\": \"ascending\"}, \"title\": \"Emociones\"}}, \"height\": 350, \"title\": \"Intensidad de Emociones, Ejemplo largo de ejes\", \"width\": 550, \"$schema\": \"https://vega.github.io/schema/vega-lite/v4.8.1.json\", \"datasets\": {\"data-2196835c6bd6e0c6096c2f8082ae5542\": [{\"emocion\": \"Confianza\", \"intensidad\": 81.24000000000002}, {\"emocion\": \"Tristeza\", \"intensidad\": 43.34399999999997}, {\"emocion\": \"Miedo\", \"intensidad\": 39.275999999999996}, {\"emocion\": \"Alegr\\u00eda\", \"intensidad\": 37.306}, {\"emocion\": \"Expectaci\\u00f3n\", \"intensidad\": 29.369999999999994}, {\"emocion\": \"Disgusto\", \"intensidad\": 25.655999999999995}, {\"emocion\": \"Enojo\", \"intensidad\": 25.330000000000005}, {\"emocion\": \"Sorpresa\", \"intensidad\": 11.845}]}}, {\"mode\": \"vega-lite\"});\n",
       "</script>"
      ],
      "text/plain": [
       "alt.Chart(...)"
      ]
     },
     "execution_count": 9,
     "metadata": {},
     "output_type": "execute_result"
    }
   ],
   "source": [
    "domain = ['Alegría', 'Confianza', 'Disgusto', 'Enojo', 'Expectación', 'Miedo', 'Sorpresa', 'Tristeza']\n",
    "range_ = ['#5d4fb4', '#e5794a','#8cd335','#f4e33d', '#4dacc8', '#fa5444','#E41791', '#f87ef2']\n",
    "chart_02 = bar_chartv2(emociones, \"Intensidad de Emociones, Ejemplo largo de ejes\", 550, 350, domain, range_, \"emocion:N\",\n",
    "                    \"intensidad\", \"emocion\", \"Intensidad\", \"Emociones\", [0,90])\n",
    "chart_02"
   ]
  },
  {
   "cell_type": "code",
   "execution_count": 10,
   "id": "15b34e95",
   "metadata": {},
   "outputs": [],
   "source": [
    "def text_chart(chart, align, baseline, dx, dy, text):\n",
    "    text = chart.mark_text(\n",
    "            align=align,\n",
    "            baseline=baseline,\n",
    "            dx=dx, dy=dy  # Nudges text to right so it doesn't appear on top of the bar\n",
    "        ).encode(\n",
    "            text=text\n",
    "        )\n",
    "    \n",
    "    return text"
   ]
  },
  {
   "cell_type": "code",
   "execution_count": 11,
   "id": "b0091b3e",
   "metadata": {},
   "outputs": [],
   "source": [
    "text = text_chart(chart_02, \"center\", \"middle\", 26, -5, \"intensidad:Q\")"
   ]
  },
  {
   "cell_type": "code",
   "execution_count": 12,
   "id": "79acab56",
   "metadata": {},
   "outputs": [
    {
     "data": {
      "text/html": [
       "\n",
       "<div id=\"altair-viz-8c3ffdcde7e24c9baae071e7b23776e1\"></div>\n",
       "<script type=\"text/javascript\">\n",
       "  (function(spec, embedOpt){\n",
       "    let outputDiv = document.currentScript.previousElementSibling;\n",
       "    if (outputDiv.id !== \"altair-viz-8c3ffdcde7e24c9baae071e7b23776e1\") {\n",
       "      outputDiv = document.getElementById(\"altair-viz-8c3ffdcde7e24c9baae071e7b23776e1\");\n",
       "    }\n",
       "    const paths = {\n",
       "      \"vega\": \"https://cdn.jsdelivr.net/npm//vega@5?noext\",\n",
       "      \"vega-lib\": \"https://cdn.jsdelivr.net/npm//vega-lib?noext\",\n",
       "      \"vega-lite\": \"https://cdn.jsdelivr.net/npm//vega-lite@4.8.1?noext\",\n",
       "      \"vega-embed\": \"https://cdn.jsdelivr.net/npm//vega-embed@6?noext\",\n",
       "    };\n",
       "\n",
       "    function loadScript(lib) {\n",
       "      return new Promise(function(resolve, reject) {\n",
       "        var s = document.createElement('script');\n",
       "        s.src = paths[lib];\n",
       "        s.async = true;\n",
       "        s.onload = () => resolve(paths[lib]);\n",
       "        s.onerror = () => reject(`Error loading script: ${paths[lib]}`);\n",
       "        document.getElementsByTagName(\"head\")[0].appendChild(s);\n",
       "      });\n",
       "    }\n",
       "\n",
       "    function showError(err) {\n",
       "      outputDiv.innerHTML = `<div class=\"error\" style=\"color:red;\">${err}</div>`;\n",
       "      throw err;\n",
       "    }\n",
       "\n",
       "    function displayChart(vegaEmbed) {\n",
       "      vegaEmbed(outputDiv, spec, embedOpt)\n",
       "        .catch(err => showError(`Javascript Error: ${err.message}<br>This usually means there's a typo in your chart specification. See the javascript console for the full traceback.`));\n",
       "    }\n",
       "\n",
       "    if(typeof define === \"function\" && define.amd) {\n",
       "      requirejs.config({paths});\n",
       "      require([\"vega-embed\"], displayChart, err => showError(`Error loading script: ${err.message}`));\n",
       "    } else if (typeof vegaEmbed === \"function\") {\n",
       "      displayChart(vegaEmbed);\n",
       "    } else {\n",
       "      loadScript(\"vega\")\n",
       "        .then(() => loadScript(\"vega-lite\"))\n",
       "        .then(() => loadScript(\"vega-embed\"))\n",
       "        .catch(showError)\n",
       "        .then(() => displayChart(vegaEmbed));\n",
       "    }\n",
       "  })({\"config\": {\"view\": {\"continuousWidth\": 400, \"continuousHeight\": 300}, \"title\": {\"fontSize\": 18}}, \"layer\": [{\"mark\": {\"type\": \"bar\", \"cornerRadiusTopLeft\": 3, \"cornerRadiusTopRight\": 3, \"size\": 40}, \"encoding\": {\"color\": {\"type\": \"nominal\", \"field\": \"emocion\", \"legend\": {\"title\": \"Emociones\"}, \"scale\": {\"domain\": [\"Alegr\\u00eda\", \"Confianza\", \"Disgusto\", \"Enojo\", \"Expectaci\\u00f3n\", \"Miedo\", \"Sorpresa\", \"Tristeza\"], \"range\": [\"#5d4fb4\", \"#e5794a\", \"#8cd335\", \"#f4e33d\", \"#4dacc8\", \"#fa5444\", \"#E41791\", \"#f87ef2\"]}}, \"x\": {\"type\": \"quantitative\", \"field\": \"intensidad\", \"scale\": {\"domain\": [0, 90]}, \"sort\": {\"field\": \"intensidad\", \"op\": \"count\", \"order\": \"ascending\"}, \"title\": \"Intensidad\"}, \"y\": {\"type\": \"nominal\", \"field\": \"emocion\", \"sort\": {\"field\": \"emocion\", \"op\": \"count\", \"order\": \"ascending\"}, \"title\": \"Emociones\"}}, \"height\": 350, \"title\": \"Intensidad de Emociones, Ejemplo largo de ejes\", \"width\": 550}, {\"mark\": {\"type\": \"text\", \"align\": \"center\", \"baseline\": \"middle\", \"dx\": 26, \"dy\": -5}, \"encoding\": {\"color\": {\"type\": \"nominal\", \"field\": \"emocion\", \"legend\": {\"title\": \"Emociones\"}, \"scale\": {\"domain\": [\"Alegr\\u00eda\", \"Confianza\", \"Disgusto\", \"Enojo\", \"Expectaci\\u00f3n\", \"Miedo\", \"Sorpresa\", \"Tristeza\"], \"range\": [\"#5d4fb4\", \"#e5794a\", \"#8cd335\", \"#f4e33d\", \"#4dacc8\", \"#fa5444\", \"#E41791\", \"#f87ef2\"]}}, \"text\": {\"type\": \"quantitative\", \"field\": \"intensidad\"}, \"x\": {\"type\": \"quantitative\", \"field\": \"intensidad\", \"scale\": {\"domain\": [0, 90]}, \"sort\": {\"field\": \"intensidad\", \"op\": \"count\", \"order\": \"ascending\"}, \"title\": \"Intensidad\"}, \"y\": {\"type\": \"nominal\", \"field\": \"emocion\", \"sort\": {\"field\": \"emocion\", \"op\": \"count\", \"order\": \"ascending\"}, \"title\": \"Emociones\"}}, \"height\": 350, \"title\": \"Intensidad de Emociones, Ejemplo largo de ejes\", \"width\": 550}], \"data\": {\"name\": \"data-2196835c6bd6e0c6096c2f8082ae5542\"}, \"$schema\": \"https://vega.github.io/schema/vega-lite/v4.8.1.json\", \"datasets\": {\"data-2196835c6bd6e0c6096c2f8082ae5542\": [{\"emocion\": \"Confianza\", \"intensidad\": 81.24000000000002}, {\"emocion\": \"Tristeza\", \"intensidad\": 43.34399999999997}, {\"emocion\": \"Miedo\", \"intensidad\": 39.275999999999996}, {\"emocion\": \"Alegr\\u00eda\", \"intensidad\": 37.306}, {\"emocion\": \"Expectaci\\u00f3n\", \"intensidad\": 29.369999999999994}, {\"emocion\": \"Disgusto\", \"intensidad\": 25.655999999999995}, {\"emocion\": \"Enojo\", \"intensidad\": 25.330000000000005}, {\"emocion\": \"Sorpresa\", \"intensidad\": 11.845}]}}, {\"mode\": \"vega-lite\"});\n",
       "</script>"
      ],
      "text/plain": [
       "alt.LayerChart(...)"
      ]
     },
     "execution_count": 12,
     "metadata": {},
     "output_type": "execute_result"
    }
   ],
   "source": [
    "(chart_02+text).configure_title(fontSize=18)"
   ]
  },
  {
   "cell_type": "markdown",
   "id": "b9dcadca",
   "metadata": {},
   "source": [
    "# Line Chart"
   ]
  },
  {
   "cell_type": "code",
   "execution_count": 13,
   "id": "944896ce",
   "metadata": {},
   "outputs": [],
   "source": [
    "def line_chart(source, title, width, height, group_color, x_, y_, title_x, title_y):\n",
    "    \n",
    "    scale = alt.Scale(domain=domain, range=range_)\n",
    "    color = alt.Color(group_color, scale=scale)\n",
    "    \n",
    "    chart = alt.Chart(source, title=title).mark_line().encode(\n",
    "        x = alt.X(x_, title=title_x),\n",
    "        y = alt.Y(y_, title=title_y),\n",
    "        color = color\n",
    "    ).properties(width=width, height=height)\n",
    "    \n",
    "    return chart"
   ]
  },
  {
   "cell_type": "code",
   "execution_count": 14,
   "id": "b0e379e9",
   "metadata": {},
   "outputs": [
    {
     "data": {
      "text/html": [
       "<div>\n",
       "<style scoped>\n",
       "    .dataframe tbody tr th:only-of-type {\n",
       "        vertical-align: middle;\n",
       "    }\n",
       "\n",
       "    .dataframe tbody tr th {\n",
       "        vertical-align: top;\n",
       "    }\n",
       "\n",
       "    .dataframe thead th {\n",
       "        text-align: right;\n",
       "    }\n",
       "</style>\n",
       "<table border=\"1\" class=\"dataframe\">\n",
       "  <thead>\n",
       "    <tr style=\"text-align: right;\">\n",
       "      <th></th>\n",
       "      <th>date</th>\n",
       "      <th>Emociones</th>\n",
       "      <th>Tipo</th>\n",
       "      <th>intensidad</th>\n",
       "    </tr>\n",
       "  </thead>\n",
       "  <tbody>\n",
       "    <tr>\n",
       "      <th>0</th>\n",
       "      <td>2022-03-02</td>\n",
       "      <td>Sorpresa</td>\n",
       "      <td>positivo</td>\n",
       "      <td>0.867</td>\n",
       "    </tr>\n",
       "    <tr>\n",
       "      <th>1</th>\n",
       "      <td>2022-03-02</td>\n",
       "      <td>Tristeza</td>\n",
       "      <td>negativo</td>\n",
       "      <td>0.531</td>\n",
       "    </tr>\n",
       "    <tr>\n",
       "      <th>2</th>\n",
       "      <td>2022-03-02</td>\n",
       "      <td>Enojo</td>\n",
       "      <td>negativo</td>\n",
       "      <td>0.000</td>\n",
       "    </tr>\n",
       "    <tr>\n",
       "      <th>3</th>\n",
       "      <td>2022-03-02</td>\n",
       "      <td>Miedo</td>\n",
       "      <td>negativo</td>\n",
       "      <td>0.000</td>\n",
       "    </tr>\n",
       "    <tr>\n",
       "      <th>4</th>\n",
       "      <td>2022-03-02</td>\n",
       "      <td>Confianza</td>\n",
       "      <td>positivo</td>\n",
       "      <td>0.000</td>\n",
       "    </tr>\n",
       "  </tbody>\n",
       "</table>\n",
       "</div>"
      ],
      "text/plain": [
       "         date  Emociones      Tipo  intensidad\n",
       "0  2022-03-02   Sorpresa  positivo       0.867\n",
       "1  2022-03-02   Tristeza  negativo       0.531\n",
       "2  2022-03-02      Enojo  negativo       0.000\n",
       "3  2022-03-02      Miedo  negativo       0.000\n",
       "4  2022-03-02  Confianza  positivo       0.000"
      ]
     },
     "execution_count": 14,
     "metadata": {},
     "output_type": "execute_result"
    }
   ],
   "source": [
    "emocionesv2 = pd.read_csv(\"ejemplo_emociones_2.csv\")\n",
    "emocionesv2.head()"
   ]
  },
  {
   "cell_type": "code",
   "execution_count": 15,
   "id": "e9510a8a",
   "metadata": {},
   "outputs": [
    {
     "data": {
      "text/html": [
       "\n",
       "<div id=\"altair-viz-c5b78004a4744414a6eecfec39f78a38\"></div>\n",
       "<script type=\"text/javascript\">\n",
       "  (function(spec, embedOpt){\n",
       "    let outputDiv = document.currentScript.previousElementSibling;\n",
       "    if (outputDiv.id !== \"altair-viz-c5b78004a4744414a6eecfec39f78a38\") {\n",
       "      outputDiv = document.getElementById(\"altair-viz-c5b78004a4744414a6eecfec39f78a38\");\n",
       "    }\n",
       "    const paths = {\n",
       "      \"vega\": \"https://cdn.jsdelivr.net/npm//vega@5?noext\",\n",
       "      \"vega-lib\": \"https://cdn.jsdelivr.net/npm//vega-lib?noext\",\n",
       "      \"vega-lite\": \"https://cdn.jsdelivr.net/npm//vega-lite@4.8.1?noext\",\n",
       "      \"vega-embed\": \"https://cdn.jsdelivr.net/npm//vega-embed@6?noext\",\n",
       "    };\n",
       "\n",
       "    function loadScript(lib) {\n",
       "      return new Promise(function(resolve, reject) {\n",
       "        var s = document.createElement('script');\n",
       "        s.src = paths[lib];\n",
       "        s.async = true;\n",
       "        s.onload = () => resolve(paths[lib]);\n",
       "        s.onerror = () => reject(`Error loading script: ${paths[lib]}`);\n",
       "        document.getElementsByTagName(\"head\")[0].appendChild(s);\n",
       "      });\n",
       "    }\n",
       "\n",
       "    function showError(err) {\n",
       "      outputDiv.innerHTML = `<div class=\"error\" style=\"color:red;\">${err}</div>`;\n",
       "      throw err;\n",
       "    }\n",
       "\n",
       "    function displayChart(vegaEmbed) {\n",
       "      vegaEmbed(outputDiv, spec, embedOpt)\n",
       "        .catch(err => showError(`Javascript Error: ${err.message}<br>This usually means there's a typo in your chart specification. See the javascript console for the full traceback.`));\n",
       "    }\n",
       "\n",
       "    if(typeof define === \"function\" && define.amd) {\n",
       "      requirejs.config({paths});\n",
       "      require([\"vega-embed\"], displayChart, err => showError(`Error loading script: ${err.message}`));\n",
       "    } else if (typeof vegaEmbed === \"function\") {\n",
       "      displayChart(vegaEmbed);\n",
       "    } else {\n",
       "      loadScript(\"vega\")\n",
       "        .then(() => loadScript(\"vega-lite\"))\n",
       "        .then(() => loadScript(\"vega-embed\"))\n",
       "        .catch(showError)\n",
       "        .then(() => displayChart(vegaEmbed));\n",
       "    }\n",
       "  })({\"config\": {\"view\": {\"continuousWidth\": 400, \"continuousHeight\": 300}}, \"data\": {\"name\": \"data-76b174d85cf1b46ce3fc16ca8d602c8e\"}, \"mark\": \"line\", \"encoding\": {\"color\": {\"type\": \"nominal\", \"field\": \"Emociones\", \"scale\": {\"domain\": [\"Alegr\\u00eda\", \"Confianza\", \"Disgusto\", \"Enojo\", \"Expectacion\", \"Miedo\", \"Sorpresa\", \"Tristeza\"], \"range\": [\"#5d4fb4\", \"#e5794a\", \"#8cd335\", \"#f4e33d\", \"#4dacc8\", \"#fa5444\", \"#E41791\", \"#f87ef2\"]}}, \"x\": {\"type\": \"nominal\", \"field\": \"date\", \"title\": \"D\\u00eda\"}, \"y\": {\"type\": \"quantitative\", \"field\": \"intensidad\", \"title\": \"Total Intensidad\"}}, \"height\": 250, \"title\": \"Peak Emociones Negativas y Positivas, Ejemplo Lineas\", \"width\": 700, \"$schema\": \"https://vega.github.io/schema/vega-lite/v4.8.1.json\", \"datasets\": {\"data-76b174d85cf1b46ce3fc16ca8d602c8e\": [{\"date\": \"2022-03-02\", \"Emociones\": \"Sorpresa\", \"Tipo\": \"positivo\", \"intensidad\": 0.867}, {\"date\": \"2022-03-02\", \"Emociones\": \"Tristeza\", \"Tipo\": \"negativo\", \"intensidad\": 0.531}, {\"date\": \"2022-03-02\", \"Emociones\": \"Enojo\", \"Tipo\": \"negativo\", \"intensidad\": 0.0}, {\"date\": \"2022-03-02\", \"Emociones\": \"Miedo\", \"Tipo\": \"negativo\", \"intensidad\": 0.0}, {\"date\": \"2022-03-02\", \"Emociones\": \"Confianza\", \"Tipo\": \"positivo\", \"intensidad\": 0.0}, {\"date\": \"2022-03-02\", \"Emociones\": \"Expectacion\", \"Tipo\": \"positivo\", \"intensidad\": 0.0}, {\"date\": \"2022-03-02\", \"Emociones\": \"Alegr\\u00eda\", \"Tipo\": \"positivo\", \"intensidad\": 0.0}, {\"date\": \"2022-03-02\", \"Emociones\": \"Disgusto\", \"Tipo\": \"negativo\", \"intensidad\": 0.0}, {\"date\": \"2022-03-03\", \"Emociones\": \"Sorpresa\", \"Tipo\": \"positivo\", \"intensidad\": 1.773}, {\"date\": \"2022-03-03\", \"Emociones\": \"Tristeza\", \"Tipo\": \"negativo\", \"intensidad\": 5.468}, {\"date\": \"2022-03-03\", \"Emociones\": \"Enojo\", \"Tipo\": \"negativo\", \"intensidad\": 5.626}, {\"date\": \"2022-03-03\", \"Emociones\": \"Miedo\", \"Tipo\": \"negativo\", \"intensidad\": 8.621}, {\"date\": \"2022-03-03\", \"Emociones\": \"Confianza\", \"Tipo\": \"positivo\", \"intensidad\": 6.992999999999999}, {\"date\": \"2022-03-03\", \"Emociones\": \"Expectacion\", \"Tipo\": \"positivo\", \"intensidad\": 0.993}, {\"date\": \"2022-03-03\", \"Emociones\": \"Alegr\\u00eda\", \"Tipo\": \"positivo\", \"intensidad\": 4.382}, {\"date\": \"2022-03-03\", \"Emociones\": \"Disgusto\", \"Tipo\": \"negativo\", \"intensidad\": 2.374}, {\"date\": \"2022-03-04\", \"Emociones\": \"Sorpresa\", \"Tipo\": \"positivo\", \"intensidad\": 1.18}, {\"date\": \"2022-03-04\", \"Emociones\": \"Tristeza\", \"Tipo\": \"negativo\", \"intensidad\": 1.856}, {\"date\": \"2022-03-04\", \"Emociones\": \"Enojo\", \"Tipo\": \"negativo\", \"intensidad\": 0.713}, {\"date\": \"2022-03-04\", \"Emociones\": \"Miedo\", \"Tipo\": \"negativo\", \"intensidad\": 0.456}, {\"date\": \"2022-03-04\", \"Emociones\": \"Confianza\", \"Tipo\": \"positivo\", \"intensidad\": 5.5790000000000015}, {\"date\": \"2022-03-04\", \"Emociones\": \"Expectacion\", \"Tipo\": \"positivo\", \"intensidad\": 0.941}, {\"date\": \"2022-03-04\", \"Emociones\": \"Alegr\\u00eda\", \"Tipo\": \"positivo\", \"intensidad\": 1.7340000000000002}, {\"date\": \"2022-03-04\", \"Emociones\": \"Disgusto\", \"Tipo\": \"negativo\", \"intensidad\": 0.867}, {\"date\": \"2022-03-05\", \"Emociones\": \"Sorpresa\", \"Tipo\": \"positivo\", \"intensidad\": 0.812}, {\"date\": \"2022-03-05\", \"Emociones\": \"Tristeza\", \"Tipo\": \"negativo\", \"intensidad\": 0.758}, {\"date\": \"2022-03-05\", \"Emociones\": \"Enojo\", \"Tipo\": \"negativo\", \"intensidad\": 0.721}, {\"date\": \"2022-03-05\", \"Emociones\": \"Miedo\", \"Tipo\": \"negativo\", \"intensidad\": 0.875}, {\"date\": \"2022-03-05\", \"Emociones\": \"Confianza\", \"Tipo\": \"positivo\", \"intensidad\": 1.5699999999999998}, {\"date\": \"2022-03-05\", \"Emociones\": \"Expectacion\", \"Tipo\": \"positivo\", \"intensidad\": 0.0}, {\"date\": \"2022-03-05\", \"Emociones\": \"Alegr\\u00eda\", \"Tipo\": \"positivo\", \"intensidad\": 1.033}, {\"date\": \"2022-03-05\", \"Emociones\": \"Disgusto\", \"Tipo\": \"negativo\", \"intensidad\": 0.508}, {\"date\": \"2022-03-06\", \"Emociones\": \"Sorpresa\", \"Tipo\": \"positivo\", \"intensidad\": 0.0}, {\"date\": \"2022-03-06\", \"Emociones\": \"Tristeza\", \"Tipo\": \"negativo\", \"intensidad\": 0.0}, {\"date\": \"2022-03-06\", \"Emociones\": \"Enojo\", \"Tipo\": \"negativo\", \"intensidad\": 0.0}, {\"date\": \"2022-03-06\", \"Emociones\": \"Miedo\", \"Tipo\": \"negativo\", \"intensidad\": 0.266}, {\"date\": \"2022-03-06\", \"Emociones\": \"Confianza\", \"Tipo\": \"positivo\", \"intensidad\": 4.14}, {\"date\": \"2022-03-06\", \"Emociones\": \"Expectacion\", \"Tipo\": \"positivo\", \"intensidad\": 0.43}, {\"date\": \"2022-03-06\", \"Emociones\": \"Alegr\\u00eda\", \"Tipo\": \"positivo\", \"intensidad\": 0.25}, {\"date\": \"2022-03-06\", \"Emociones\": \"Disgusto\", \"Tipo\": \"negativo\", \"intensidad\": 0.133}, {\"date\": \"2022-03-07\", \"Emociones\": \"Sorpresa\", \"Tipo\": \"positivo\", \"intensidad\": 0.0}, {\"date\": \"2022-03-07\", \"Emociones\": \"Tristeza\", \"Tipo\": \"negativo\", \"intensidad\": 0.0}, {\"date\": \"2022-03-07\", \"Emociones\": \"Enojo\", \"Tipo\": \"negativo\", \"intensidad\": 0.0}, {\"date\": \"2022-03-07\", \"Emociones\": \"Miedo\", \"Tipo\": \"negativo\", \"intensidad\": 0.188}, {\"date\": \"2022-03-07\", \"Emociones\": \"Confianza\", \"Tipo\": \"positivo\", \"intensidad\": 2.164}, {\"date\": \"2022-03-07\", \"Emociones\": \"Expectacion\", \"Tipo\": \"positivo\", \"intensidad\": 0.0}, {\"date\": \"2022-03-07\", \"Emociones\": \"Alegr\\u00eda\", \"Tipo\": \"positivo\", \"intensidad\": 0.0}, {\"date\": \"2022-03-07\", \"Emociones\": \"Disgusto\", \"Tipo\": \"negativo\", \"intensidad\": 0.297}, {\"date\": \"2022-03-08\", \"Emociones\": \"Sorpresa\", \"Tipo\": \"positivo\", \"intensidad\": 0.203}, {\"date\": \"2022-03-08\", \"Emociones\": \"Tristeza\", \"Tipo\": \"negativo\", \"intensidad\": 0.6409999999999999}, {\"date\": \"2022-03-08\", \"Emociones\": \"Enojo\", \"Tipo\": \"negativo\", \"intensidad\": 0.07400000000000001}, {\"date\": \"2022-03-08\", \"Emociones\": \"Miedo\", \"Tipo\": \"negativo\", \"intensidad\": 0.578}, {\"date\": \"2022-03-08\", \"Emociones\": \"Confianza\", \"Tipo\": \"positivo\", \"intensidad\": 2.6260000000000003}, {\"date\": \"2022-03-08\", \"Emociones\": \"Expectacion\", \"Tipo\": \"positivo\", \"intensidad\": 1.625}, {\"date\": \"2022-03-08\", \"Emociones\": \"Alegr\\u00eda\", \"Tipo\": \"positivo\", \"intensidad\": 1.7840000000000005}, {\"date\": \"2022-03-08\", \"Emociones\": \"Disgusto\", \"Tipo\": \"negativo\", \"intensidad\": 0.0}, {\"date\": \"2022-03-09\", \"Emociones\": \"Sorpresa\", \"Tipo\": \"positivo\", \"intensidad\": 1.531}, {\"date\": \"2022-03-09\", \"Emociones\": \"Tristeza\", \"Tipo\": \"negativo\", \"intensidad\": 1.3730000000000002}, {\"date\": \"2022-03-09\", \"Emociones\": \"Enojo\", \"Tipo\": \"negativo\", \"intensidad\": 0.5}, {\"date\": \"2022-03-09\", \"Emociones\": \"Miedo\", \"Tipo\": \"negativo\", \"intensidad\": 0.391}, {\"date\": \"2022-03-09\", \"Emociones\": \"Confianza\", \"Tipo\": \"positivo\", \"intensidad\": 0.22699999999999998}, {\"date\": \"2022-03-09\", \"Emociones\": \"Expectacion\", \"Tipo\": \"positivo\", \"intensidad\": 1.5779999999999998}, {\"date\": \"2022-03-09\", \"Emociones\": \"Alegr\\u00eda\", \"Tipo\": \"positivo\", \"intensidad\": 2.613}, {\"date\": \"2022-03-09\", \"Emociones\": \"Disgusto\", \"Tipo\": \"negativo\", \"intensidad\": 0.0}, {\"date\": \"2022-03-10\", \"Emociones\": \"Sorpresa\", \"Tipo\": \"positivo\", \"intensidad\": 0.0}, {\"date\": \"2022-03-10\", \"Emociones\": \"Tristeza\", \"Tipo\": \"negativo\", \"intensidad\": 0.0}, {\"date\": \"2022-03-10\", \"Emociones\": \"Enojo\", \"Tipo\": \"negativo\", \"intensidad\": 0.0}, {\"date\": \"2022-03-10\", \"Emociones\": \"Miedo\", \"Tipo\": \"negativo\", \"intensidad\": 0.0}, {\"date\": \"2022-03-10\", \"Emociones\": \"Confianza\", \"Tipo\": \"positivo\", \"intensidad\": 1.6879999999999995}, {\"date\": \"2022-03-10\", \"Emociones\": \"Expectacion\", \"Tipo\": \"positivo\", \"intensidad\": 0.0}, {\"date\": \"2022-03-10\", \"Emociones\": \"Alegr\\u00eda\", \"Tipo\": \"positivo\", \"intensidad\": 1.107}, {\"date\": \"2022-03-10\", \"Emociones\": \"Disgusto\", \"Tipo\": \"negativo\", \"intensidad\": 0.0}, {\"date\": \"2022-03-11\", \"Emociones\": \"Sorpresa\", \"Tipo\": \"positivo\", \"intensidad\": 0.22699999999999998}, {\"date\": \"2022-03-11\", \"Emociones\": \"Tristeza\", \"Tipo\": \"negativo\", \"intensidad\": 0.531}, {\"date\": \"2022-03-11\", \"Emociones\": \"Enojo\", \"Tipo\": \"negativo\", \"intensidad\": 0.0}, {\"date\": \"2022-03-11\", \"Emociones\": \"Miedo\", \"Tipo\": \"negativo\", \"intensidad\": 0.0}, {\"date\": \"2022-03-11\", \"Emociones\": \"Confianza\", \"Tipo\": \"positivo\", \"intensidad\": 4.3439999999999985}, {\"date\": \"2022-03-11\", \"Emociones\": \"Expectacion\", \"Tipo\": \"positivo\", \"intensidad\": 0.941}, {\"date\": \"2022-03-11\", \"Emociones\": \"Alegr\\u00eda\", \"Tipo\": \"positivo\", \"intensidad\": 1.847}, {\"date\": \"2022-03-11\", \"Emociones\": \"Disgusto\", \"Tipo\": \"negativo\", \"intensidad\": 0.0}, {\"date\": \"2022-03-12\", \"Emociones\": \"Sorpresa\", \"Tipo\": \"positivo\", \"intensidad\": 0.0}, {\"date\": \"2022-03-12\", \"Emociones\": \"Tristeza\", \"Tipo\": \"negativo\", \"intensidad\": 0.0}, {\"date\": \"2022-03-12\", \"Emociones\": \"Enojo\", \"Tipo\": \"negativo\", \"intensidad\": 0.6559999999999999}, {\"date\": \"2022-03-12\", \"Emociones\": \"Miedo\", \"Tipo\": \"negativo\", \"intensidad\": 0.797}, {\"date\": \"2022-03-12\", \"Emociones\": \"Confianza\", \"Tipo\": \"positivo\", \"intensidad\": 0.922}, {\"date\": \"2022-03-12\", \"Emociones\": \"Expectacion\", \"Tipo\": \"positivo\", \"intensidad\": 0.562}, {\"date\": \"2022-03-12\", \"Emociones\": \"Alegr\\u00eda\", \"Tipo\": \"positivo\", \"intensidad\": 2.1790000000000003}, {\"date\": \"2022-03-12\", \"Emociones\": \"Disgusto\", \"Tipo\": \"negativo\", \"intensidad\": 0.0}, {\"date\": \"2022-03-13\", \"Emociones\": \"Sorpresa\", \"Tipo\": \"positivo\", \"intensidad\": 0.0}, {\"date\": \"2022-03-13\", \"Emociones\": \"Tristeza\", \"Tipo\": \"negativo\", \"intensidad\": 0.7190000000000001}, {\"date\": \"2022-03-13\", \"Emociones\": \"Enojo\", \"Tipo\": \"negativo\", \"intensidad\": 0.0}, {\"date\": \"2022-03-13\", \"Emociones\": \"Miedo\", \"Tipo\": \"negativo\", \"intensidad\": 0.18}, {\"date\": \"2022-03-13\", \"Emociones\": \"Confianza\", \"Tipo\": \"positivo\", \"intensidad\": 0.68}, {\"date\": \"2022-03-13\", \"Emociones\": \"Expectacion\", \"Tipo\": \"positivo\", \"intensidad\": 0.0}, {\"date\": \"2022-03-13\", \"Emociones\": \"Alegr\\u00eda\", \"Tipo\": \"positivo\", \"intensidad\": 0.45299999999999996}, {\"date\": \"2022-03-13\", \"Emociones\": \"Disgusto\", \"Tipo\": \"negativo\", \"intensidad\": 0.0}, {\"date\": \"2022-03-14\", \"Emociones\": \"Sorpresa\", \"Tipo\": \"positivo\", \"intensidad\": 1.352}, {\"date\": \"2022-03-14\", \"Emociones\": \"Tristeza\", \"Tipo\": \"negativo\", \"intensidad\": 6.601}, {\"date\": \"2022-03-14\", \"Emociones\": \"Enojo\", \"Tipo\": \"negativo\", \"intensidad\": 7.52}, {\"date\": \"2022-03-14\", \"Emociones\": \"Miedo\", \"Tipo\": \"negativo\", \"intensidad\": 10.251}, {\"date\": \"2022-03-14\", \"Emociones\": \"Confianza\", \"Tipo\": \"positivo\", \"intensidad\": 10.422}, {\"date\": \"2022-03-14\", \"Emociones\": \"Expectacion\", \"Tipo\": \"positivo\", \"intensidad\": 1.527}, {\"date\": \"2022-03-14\", \"Emociones\": \"Alegr\\u00eda\", \"Tipo\": \"positivo\", \"intensidad\": 3.509}, {\"date\": \"2022-03-14\", \"Emociones\": \"Disgusto\", \"Tipo\": \"negativo\", \"intensidad\": 4.289}, {\"date\": \"2022-03-15\", \"Emociones\": \"Sorpresa\", \"Tipo\": \"positivo\", \"intensidad\": 0.7110000000000001}, {\"date\": \"2022-03-15\", \"Emociones\": \"Tristeza\", \"Tipo\": \"negativo\", \"intensidad\": 1.0910000000000002}, {\"date\": \"2022-03-15\", \"Emociones\": \"Enojo\", \"Tipo\": \"negativo\", \"intensidad\": 5.3260000000000005}, {\"date\": \"2022-03-15\", \"Emociones\": \"Miedo\", \"Tipo\": \"negativo\", \"intensidad\": 3.815}, {\"date\": \"2022-03-15\", \"Emociones\": \"Confianza\", \"Tipo\": \"positivo\", \"intensidad\": 3.0460000000000003}, {\"date\": \"2022-03-15\", \"Emociones\": \"Expectacion\", \"Tipo\": \"positivo\", \"intensidad\": 2.031}, {\"date\": \"2022-03-15\", \"Emociones\": \"Alegr\\u00eda\", \"Tipo\": \"positivo\", \"intensidad\": 2.505}, {\"date\": \"2022-03-15\", \"Emociones\": \"Disgusto\", \"Tipo\": \"negativo\", \"intensidad\": 1.765}, {\"date\": \"2022-03-16\", \"Emociones\": \"Sorpresa\", \"Tipo\": \"positivo\", \"intensidad\": 0.953}, {\"date\": \"2022-03-16\", \"Emociones\": \"Tristeza\", \"Tipo\": \"negativo\", \"intensidad\": 2.281}, {\"date\": \"2022-03-16\", \"Emociones\": \"Enojo\", \"Tipo\": \"negativo\", \"intensidad\": 0.7929999999999999}, {\"date\": \"2022-03-16\", \"Emociones\": \"Miedo\", \"Tipo\": \"negativo\", \"intensidad\": 1.672}, {\"date\": \"2022-03-16\", \"Emociones\": \"Confianza\", \"Tipo\": \"positivo\", \"intensidad\": 2.063}, {\"date\": \"2022-03-16\", \"Emociones\": \"Expectacion\", \"Tipo\": \"positivo\", \"intensidad\": 1.093}, {\"date\": \"2022-03-16\", \"Emociones\": \"Alegr\\u00eda\", \"Tipo\": \"positivo\", \"intensidad\": 0.8280000000000001}, {\"date\": \"2022-03-16\", \"Emociones\": \"Disgusto\", \"Tipo\": \"negativo\", \"intensidad\": 1.3119999999999998}, {\"date\": \"2022-03-17\", \"Emociones\": \"Sorpresa\", \"Tipo\": \"positivo\", \"intensidad\": 0.0}, {\"date\": \"2022-03-17\", \"Emociones\": \"Tristeza\", \"Tipo\": \"negativo\", \"intensidad\": 1.156}, {\"date\": \"2022-03-17\", \"Emociones\": \"Enojo\", \"Tipo\": \"negativo\", \"intensidad\": 0.609}, {\"date\": \"2022-03-17\", \"Emociones\": \"Miedo\", \"Tipo\": \"negativo\", \"intensidad\": 1.815}, {\"date\": \"2022-03-17\", \"Emociones\": \"Confianza\", \"Tipo\": \"positivo\", \"intensidad\": 0.0}, {\"date\": \"2022-03-17\", \"Emociones\": \"Expectacion\", \"Tipo\": \"positivo\", \"intensidad\": 0.703}, {\"date\": \"2022-03-17\", \"Emociones\": \"Alegr\\u00eda\", \"Tipo\": \"positivo\", \"intensidad\": 0.0}, {\"date\": \"2022-03-17\", \"Emociones\": \"Disgusto\", \"Tipo\": \"negativo\", \"intensidad\": 0.812}, {\"date\": \"2022-03-18\", \"Emociones\": \"Sorpresa\", \"Tipo\": \"positivo\", \"intensidad\": 0.0}, {\"date\": \"2022-03-18\", \"Emociones\": \"Tristeza\", \"Tipo\": \"negativo\", \"intensidad\": 0.0}, {\"date\": \"2022-03-18\", \"Emociones\": \"Enojo\", \"Tipo\": \"negativo\", \"intensidad\": 0.0}, {\"date\": \"2022-03-18\", \"Emociones\": \"Miedo\", \"Tipo\": \"negativo\", \"intensidad\": 0.391}, {\"date\": \"2022-03-18\", \"Emociones\": \"Confianza\", \"Tipo\": \"positivo\", \"intensidad\": 0.0}, {\"date\": \"2022-03-18\", \"Emociones\": \"Expectacion\", \"Tipo\": \"positivo\", \"intensidad\": 0.0}, {\"date\": \"2022-03-18\", \"Emociones\": \"Alegr\\u00eda\", \"Tipo\": \"positivo\", \"intensidad\": 0.0}, {\"date\": \"2022-03-18\", \"Emociones\": \"Disgusto\", \"Tipo\": \"negativo\", \"intensidad\": 0.0}]}}, {\"mode\": \"vega-lite\"});\n",
       "</script>"
      ],
      "text/plain": [
       "alt.Chart(...)"
      ]
     },
     "execution_count": 15,
     "metadata": {},
     "output_type": "execute_result"
    }
   ],
   "source": [
    "domain = ['Alegría', 'Confianza', 'Disgusto', 'Enojo', 'Expectacion', 'Miedo', 'Sorpresa', 'Tristeza']\n",
    "range_ = ['#5d4fb4', '#e5794a','#8cd335','#f4e33d', '#4dacc8', '#fa5444','#E41791', '#f87ef2']\n",
    "chart_line = line_chart(emocionesv2, \"Peak Emociones Negativas y Positivas, Ejemplo Lineas\", 700, 250,\n",
    "                          \"Emociones\", \"date\", \"intensidad:Q\", \"Día\", \"Total Intensidad\")\n",
    "chart_line"
   ]
  }
 ],
 "metadata": {
  "kernelspec": {
   "display_name": "Python 3",
   "language": "python",
   "name": "python3"
  },
  "language_info": {
   "codemirror_mode": {
    "name": "ipython",
    "version": 3
   },
   "file_extension": ".py",
   "mimetype": "text/x-python",
   "name": "python",
   "nbconvert_exporter": "python",
   "pygments_lexer": "ipython3",
   "version": "3.6.5"
  }
 },
 "nbformat": 4,
 "nbformat_minor": 5
}
