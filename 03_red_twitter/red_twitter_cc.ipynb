{
 "cells": [
  {
   "cell_type": "code",
   "execution_count": 1,
   "metadata": {},
   "outputs": [],
   "source": [
    "import pandas as pd\n",
    "import numpy as np\n",
    "import networkx as nx\n",
    "from pyvis.network import Network\n",
    "import pyvis\n",
    "from community import community_louvain\n",
    "import matplotlib.colors as mcolors"
   ]
  },
  {
   "cell_type": "code",
   "execution_count": 2,
   "metadata": {},
   "outputs": [
    {
     "data": {
      "text/plain": [
       "pacto\n",
       "VAMOS POR CHILE                                   117\n",
       "LISTA DEL APRUEBO                                 111\n",
       "APRUEBO DIGNIDAD                                  104\n",
       "PARTIDO DE TRABAJADORES REVOLUCIONARIOS            28\n",
       "PARTIDO ECOLOGISTA VERDE                           24\n",
       "                                                 ... \n",
       "LISTA INDEPENDIENTE PARTO SOCIAL (D7)               1\n",
       "LISTA DEL PUEBLO-RIOS INDEPENDIENTES (D24)          1\n",
       "LA LISTA DEL PUEBLO DISTRITO 14 (D14)               1\n",
       "INDEPENDIENTES POR LA NUEVA CONSTITUCION (D24)      1\n",
       "VOCES CONSTITUYENTES (D12)                          1\n",
       "Length: 71, dtype: int64"
      ]
     },
     "execution_count": 2,
     "metadata": {},
     "output_type": "execute_result"
    }
   ],
   "source": [
    "#carga candidatos y pactos\n",
    "pactos = pd.read_csv('https://storage.googleapis.com/notas-blog-public/03%20-%20Red%20candidatos/nodes_cc.csv', encoding = 'latin1', usecols = ['id', 'pacto', 'partido'])\n",
    "pactos['id'] = pactos['id'].str.lower()\n",
    "\n",
    "# Número de candidatxs por pacto\n",
    "pactos.groupby('pacto').size().sort_values(ascending = False)"
   ]
  },
  {
   "cell_type": "code",
   "execution_count": 3,
   "metadata": {},
   "outputs": [],
   "source": [
    "#re-agrupamos las listas\n",
    "lista = ['VAMOS POR CHILE', 'LISTA DEL APRUEBO', 'APRUEBO DIGNIDAD', 'PARTIDO DE TRABAJADORES REVOLUCIONARIOS']\n",
    "pactos.loc[~pactos.pacto.isin(lista), 'pacto'] = 'INDEPS Y OTROS'"
   ]
  },
  {
   "cell_type": "code",
   "execution_count": 4,
   "metadata": {},
   "outputs": [],
   "source": [
    "#carga edgelist candidatos en Twitter\n",
    "red_cc = pd.read_csv('https://storage.googleapis.com/notas-blog-public/03%20-%20Red%20candidatos/edgelist_cc.csv')\n",
    "red_cc.user = red_cc.user.str.lower()\n",
    "red_cc.screen_name = red_cc.screen_name.str.lower()"
   ]
  },
  {
   "cell_type": "code",
   "execution_count": 6,
   "metadata": {},
   "outputs": [],
   "source": [
    "#diccionario de pactos por cuenta\n",
    "pactos_dict = dict(zip(pactos.id, pactos.pacto))"
   ]
  },
  {
   "cell_type": "code",
   "execution_count": 7,
   "metadata": {},
   "outputs": [
    {
     "name": "stdout",
     "output_type": "stream",
     "text": [
      "Grafo con 589 nodos\n",
      "\n",
      "Comunidades:\n",
      "{0, 1, 2, 3, 4, 5, 6}\n"
     ]
    }
   ],
   "source": [
    "#creamos la red con networkx\n",
    "nx_graph = nx.from_pandas_edgelist(red_cc, source = 'user', target = 'screen_name')\n",
    "print('Grafo con ' + str(nx_graph.number_of_nodes()) + ' nodos')\n",
    "\n",
    "#identificamos las comunidades usando el algoritmo Louvain\n",
    "coms = community_louvain.best_partition(nx_graph)\n",
    "print('\\nComunidades:')\n",
    "print(set(list(coms.values())))\n",
    "\n",
    "#Definimos colores\n",
    "all_colors = ['red','grey','blue','green', '#9ACD32','grey','#DDA0DD']\n",
    "n = len(set(list(coms.values())))\n",
    "colors = list(all_colors)[:len(coms)]\n",
    "\n",
    "#creamos el atributo color\n",
    "node_names = list(nx_graph.node.keys())\n",
    "for i, p in enumerate(list(coms.values())):\n",
    "    nx_graph.node[node_names[i]]['color'] = colors[p]\n",
    "colors_2 = nx.get_node_attributes(nx_graph, 'color').values()\n",
    "\n",
    "#creamos el atributo title, el nombre de cada nodo\n",
    "node_names = list(nx_graph.node.keys())\n",
    "for i, p in enumerate(nx_graph.nodes()):\n",
    "    nx_graph.node[node_names[i]]['title'] = p\n",
    "\n",
    "#calculamos grado y lo asignamos a los pesos (size) de los nodos\n",
    "#mantenemos los tamaños en el rango 10-60 para efectos de visualización\n",
    "degree_dict = dict(nx_graph.degree())\n",
    "for k, v in list(degree_dict.items()):\n",
    "    if v > 80:\n",
    "        degree_dict[k] = 60\n",
    "    if v < 10:\n",
    "        degree_dict[k] = 10\n",
    "nx.set_node_attributes(nx_graph, degree_dict, \"size\")"
   ]
  },
  {
   "cell_type": "code",
   "execution_count": 8,
   "metadata": {},
   "outputs": [
    {
     "data": {
      "text/html": [
       "\n",
       "        <iframe\n",
       "            width=\"800px\"\n",
       "            height=\"800px\"\n",
       "            src=\"red_cc_COM.html\"\n",
       "            frameborder=\"0\"\n",
       "            allowfullscreen\n",
       "        ></iframe>\n",
       "        "
      ],
      "text/plain": [
       "<IPython.lib.display.IFrame at 0x1f0a95ae898>"
      ]
     },
     "execution_count": 8,
     "metadata": {},
     "output_type": "execute_result"
    }
   ],
   "source": [
    "#Graficamos con pyvis, coloreado por COMUNIDAD\n",
    "net = Network(height='800px', width='800px', directed=False, notebook=True, bgcolor='yellow', \n",
    "              font_color=False, layout=None)\n",
    "net.from_nx(nx_graph)\n",
    "net.force_atlas_2based(gravity=-50, central_gravity=0.01, spring_length=100, spring_strength=0.08, damping=0.4, overlap=0)\n",
    "net.show('red_cc_COM.html')"
   ]
  },
  {
   "cell_type": "code",
   "execution_count": 9,
   "metadata": {},
   "outputs": [
    {
     "data": {
      "text/plain": [
       "{'LISTA DEL APRUEBO': '#DDA0DD',\n",
       " 'INDEPS Y OTROS': '#9ACD32',\n",
       " 'PARTIDO DE TRABAJADORES REVOLUCIONARIOS': 'red',\n",
       " 'VAMOS POR CHILE': 'blue',\n",
       " 'APRUEBO DIGNIDAD': 'green'}"
      ]
     },
     "execution_count": 9,
     "metadata": {},
     "output_type": "execute_result"
    }
   ],
   "source": [
    "#creamos el atributo 'pacto'\n",
    "node_names = list(nx_graph.node.keys())\n",
    "for nombre in node_names:\n",
    "    if nombre in pactos_dict.keys():\n",
    "        nx_graph.node[nombre]['pacto'] = pactos_dict[nombre]\n",
    "    else:\n",
    "        nx_graph.node[nombre]['pacto'] = 'INDEPS Y OTROS'\n",
    "        \n",
    "#Definimos colores por pacto\n",
    "all_colors = ['#DDA0DD', '#9ACD32', 'red','blue','green','grey','#DDA0DD']\n",
    "n = len(pactos.pacto.unique())\n",
    "colors = list(all_colors)[:n]\n",
    "\n",
    "pacto_color = dict(zip(list(pactos.pacto.unique()), colors))\n",
    "pacto_color"
   ]
  },
  {
   "cell_type": "code",
   "execution_count": 10,
   "metadata": {},
   "outputs": [],
   "source": [
    "#creamos el atributo color (para los pactos)\n",
    "node_names = list(nx_graph.node.keys())\n",
    "for nombre in node_names:\n",
    "    nx_graph.node[nombre]['color'] = pacto_color[nx_graph.node[nombre]['pacto']]    "
   ]
  },
  {
   "cell_type": "code",
   "execution_count": 11,
   "metadata": {
    "scrolled": false
   },
   "outputs": [
    {
     "data": {
      "text/html": [
       "\n",
       "        <iframe\n",
       "            width=\"600px\"\n",
       "            height=\"600px\"\n",
       "            src=\"red_cc_PACTO.html\"\n",
       "            frameborder=\"0\"\n",
       "            allowfullscreen\n",
       "        ></iframe>\n",
       "        "
      ],
      "text/plain": [
       "<IPython.lib.display.IFrame at 0x1f0a98020b8>"
      ]
     },
     "execution_count": 11,
     "metadata": {},
     "output_type": "execute_result"
    }
   ],
   "source": [
    "#Graficamos con pyvis, coloreado por PACTO\n",
    "net = Network(height='600px', width='600px', directed=False, notebook=True, bgcolor='yellow', \n",
    "              font_color=False, layout=None)\n",
    "net.from_nx(nx_graph)\n",
    "net.force_atlas_2based(gravity=-50, central_gravity=0.01, spring_length=100, spring_strength=0.08, damping=0.4, overlap=0)\n",
    "\n",
    "net.show('red_cc_PACTO.html')"
   ]
  }
 ],
 "metadata": {
  "kernelspec": {
   "display_name": "Python 3",
   "language": "python",
   "name": "python3"
  },
  "language_info": {
   "codemirror_mode": {
    "name": "ipython",
    "version": 3
   },
   "file_extension": ".py",
   "mimetype": "text/x-python",
   "name": "python",
   "nbconvert_exporter": "python",
   "pygments_lexer": "ipython3",
   "version": "3.7.3"
  }
 },
 "nbformat": 4,
 "nbformat_minor": 2
}
